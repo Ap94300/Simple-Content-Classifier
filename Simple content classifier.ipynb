{
 "cells": [
  {
   "cell_type": "code",
   "execution_count": 1,
   "metadata": {},
   "outputs": [
    {
     "name": "stdout",
     "output_type": "stream",
     "text": [
      "Requirement already satisfied: scikit-learn in c:\\users\\ayush\\appdata\\local\\programs\\python\\python312\\lib\\site-packages (1.4.1.post1)\n",
      "Requirement already satisfied: numpy<2.0,>=1.19.5 in c:\\users\\ayush\\appdata\\local\\programs\\python\\python312\\lib\\site-packages (from scikit-learn) (1.26.4)\n",
      "Requirement already satisfied: scipy>=1.6.0 in c:\\users\\ayush\\appdata\\local\\programs\\python\\python312\\lib\\site-packages (from scikit-learn) (1.12.0)\n",
      "Requirement already satisfied: joblib>=1.2.0 in c:\\users\\ayush\\appdata\\local\\programs\\python\\python312\\lib\\site-packages (from scikit-learn) (1.3.2)\n",
      "Requirement already satisfied: threadpoolctl>=2.0.0 in c:\\users\\ayush\\appdata\\local\\programs\\python\\python312\\lib\\site-packages (from scikit-learn) (3.3.0)\n",
      "Classification Report:\n",
      "               precision    recall  f1-score   support\n",
      "\n",
      "      action       0.67      0.67      0.67         3\n",
      "     fantasy       0.00      0.00      0.00         2\n",
      "     romance       0.00      0.00      0.00         1\n",
      "\n",
      "    accuracy                           0.33         6\n",
      "   macro avg       0.22      0.22      0.22         6\n",
      "weighted avg       0.33      0.33      0.33         6\n",
      "\n"
     ]
    },
    {
     "name": "stderr",
     "output_type": "stream",
     "text": [
      "c:\\Users\\ayush\\AppData\\Local\\Programs\\Python\\Python312\\Lib\\site-packages\\sklearn\\metrics\\_classification.py:1509: UndefinedMetricWarning: Precision is ill-defined and being set to 0.0 in labels with no predicted samples. Use `zero_division` parameter to control this behavior.\n",
      "  _warn_prf(average, modifier, f\"{metric.capitalize()} is\", len(result))\n",
      "c:\\Users\\ayush\\AppData\\Local\\Programs\\Python\\Python312\\Lib\\site-packages\\sklearn\\metrics\\_classification.py:1509: UndefinedMetricWarning: Precision is ill-defined and being set to 0.0 in labels with no predicted samples. Use `zero_division` parameter to control this behavior.\n",
      "  _warn_prf(average, modifier, f\"{metric.capitalize()} is\", len(result))\n",
      "c:\\Users\\ayush\\AppData\\Local\\Programs\\Python\\Python312\\Lib\\site-packages\\sklearn\\metrics\\_classification.py:1509: UndefinedMetricWarning: Precision is ill-defined and being set to 0.0 in labels with no predicted samples. Use `zero_division` parameter to control this behavior.\n",
      "  _warn_prf(average, modifier, f\"{metric.capitalize()} is\", len(result))\n"
     ]
    }
   ],
   "source": [
    "!pip install scikit-learn\n",
    "\n",
    "# Importing necessary libraries\n",
    "import numpy as np\n",
    "from sklearn.feature_extraction.text import TfidfVectorizer\n",
    "from sklearn.model_selection import train_test_split\n",
    "from sklearn.tree import DecisionTreeClassifier\n",
    "from sklearn.metrics import classification_report\n",
    "\n",
    "# Create the dataset\n",
    "data = [\n",
    "    {\"description\": \"A high school girl tries to hide her insecurities with makeup while navigating romance.\", \"genre\": \"romance\"},\n",
    "    {\"description\": \"A young man discovers he has superpowers and must fight to protect the city.\", \"genre\": \"action\"},\n",
    "    {\"description\": \"A magical kingdom where the hero must find ancient relics to stop the dark forces.\", \"genre\": \"fantasy\"},\n",
    "    {\"description\": \"Two students fall in love while overcoming their past traumas.\", \"genre\": \"romance\"},\n",
    "    {\"description\": \"A team of heroes unites to fight against an alien invasion.\", \"genre\": \"action\"},\n",
    "    {\"description\": \"A young girl navigates the challenges of being a princess in a world of dragons.\", \"genre\": \"fantasy\"},\n",
    "    {\"description\": \"A couple faces challenges as they enter adulthood and start their lives together.\", \"genre\": \"romance\"},\n",
    "    {\"description\": \"The protagonist enters a virtual world where they must battle monsters to survive.\", \"genre\": \"fantasy\"},\n",
    "    {\"description\": \"A secret agent must prevent a criminal organization from unleashing chaos.\", \"genre\": \"action\"},\n",
    "    {\"description\": \"Two people fall in love despite the obstacles posed by their families.\", \"genre\": \"romance\"},\n",
    "    {\"description\": \"A martial artist takes on a deadly tournament to become the ultimate fighter.\", \"genre\": \"action\"},\n",
    "    {\"description\": \"A group of rebels fights against a tyrannical regime in a dystopian future.\", \"genre\": \"action\"},\n",
    "    {\"description\": \"A young witch discovers her powers while attending a magical academy.\", \"genre\": \"fantasy\"},\n",
    "    {\"description\": \"In a world where humans and demons coexist, a forbidden love blossoms.\", \"genre\": \"romance\"},\n",
    "    {\"description\": \"A knight must protect the kingdom from an impending invasion of dark creatures.\", \"genre\": \"fantasy\"},\n",
    "    {\"description\": \"An undercover cop infiltrates a dangerous criminal organization.\", \"genre\": \"action\"},\n",
    "    {\"description\": \"A romance blooms between a pop star and a regular high school student.\", \"genre\": \"romance\"}\n",
    "]\n",
    "\n",
    "# Splitting the data into descriptions and labels\n",
    "descriptions = [item[\"description\"] for item in data]\n",
    "labels = [item[\"genre\"] for item in data]\n",
    "\n",
    "# Preprocess the data\n",
    "# We will use TF-IDF Vectorizer to convert text into numerical features\n",
    "vectorizer = TfidfVectorizer()\n",
    "X = vectorizer.fit_transform(descriptions)\n",
    "\n",
    "# Split the data into training and testing sets\n",
    "X_train, X_test, y_train, y_test = train_test_split(X, labels, test_size=0.3, random_state=42)\n",
    "\n",
    "# Create the model (Decision Tree Classifier)\n",
    "model = DecisionTreeClassifier()\n",
    "model.fit(X_train, y_train)\n",
    "\n",
    "# Predict on the test set\n",
    "y_pred = model.predict(X_test)\n",
    "\n",
    "# Evaluate the model\n",
    "print(\"Classification Report:\\n\", classification_report(y_test, y_pred))"
   ]
  }
 ],
 "metadata": {
  "kernelspec": {
   "display_name": "Python 3",
   "language": "python",
   "name": "python3"
  },
  "language_info": {
   "codemirror_mode": {
    "name": "ipython",
    "version": 3
   },
   "file_extension": ".py",
   "mimetype": "text/x-python",
   "name": "python",
   "nbconvert_exporter": "python",
   "pygments_lexer": "ipython3",
   "version": "3.12.2"
  }
 },
 "nbformat": 4,
 "nbformat_minor": 2
}
